{
  "nbformat": 4,
  "nbformat_minor": 0,
  "metadata": {
    "colab": {
      "provenance": []
    },
    "kernelspec": {
      "name": "python3",
      "display_name": "Python 3"
    },
    "language_info": {
      "name": "python"
    }
  },
  "cells": [
    {
      "cell_type": "code",
      "source": [
        "from math import *"
      ],
      "metadata": {
        "id": "BaZr1s_i2omW"
      },
      "execution_count": null,
      "outputs": []
    },
    {
      "cell_type": "code",
      "execution_count": null,
      "metadata": {
        "id": "wiG7s5vRx2b0"
      },
      "outputs": [],
      "source": [
        "def update(mean1,var1,mean2,var2):\n",
        "  new_mean = (var2 * mean1 + mean2 * var1)/(var1+var2)\n",
        "  new_var =  1./(1./var1 + 1./var2)\n",
        "  return [new_mean, new_var]"
      ]
    },
    {
      "cell_type": "code",
      "source": [
        "print (update(10.,8.,13., 2.))"
      ],
      "metadata": {
        "colab": {
          "base_uri": "https://localhost:8080/"
        },
        "id": "ocdquwhcyxk6",
        "outputId": "e432773b-c128-4acd-bdfc-71ff66d844ac"
      },
      "execution_count": null,
      "outputs": [
        {
          "output_type": "stream",
          "name": "stdout",
          "text": [
            "[12.4, 1.6]\n"
          ]
        }
      ]
    },
    {
      "cell_type": "code",
      "source": [
        "def predict(mean1,var1,mean2,var2):\n",
        "  new_mean = mean1 + mean2\n",
        "  new_var = var1 + var2\n",
        "  return [new_mean, new_var]"
      ],
      "metadata": {
        "id": "hiqzZYaYzFnT"
      },
      "execution_count": null,
      "outputs": []
    },
    {
      "cell_type": "code",
      "source": [
        "print(predict(10., 4., 12., 4.))"
      ],
      "metadata": {
        "colab": {
          "base_uri": "https://localhost:8080/"
        },
        "id": "ZXB_uF1izV6k",
        "outputId": "ac049865-f0e0-4a25-81d1-bcb1831fc847"
      },
      "execution_count": null,
      "outputs": [
        {
          "output_type": "stream",
          "name": "stdout",
          "text": [
            "[22.0, 8.0]\n"
          ]
        }
      ]
    },
    {
      "cell_type": "code",
      "source": [
        "measurements = [5., 6., 7., 9., 10.]\n",
        "motion = [1., 1., 2., 1., 1.]\n",
        "measurement_sig = 4.\n",
        "motion_sig = 2.\n",
        "mu = 0.\n",
        "sig = 10000."
      ],
      "metadata": {
        "id": "6BI1tIrq0rG8"
      },
      "execution_count": null,
      "outputs": []
    },
    {
      "cell_type": "code",
      "source": [
        "for n in range (len(measurements)):\n",
        "  [mu,sig] = update(mu,sig,measurements[n],measurement_sig)\n",
        "  print(\"Update :\",[mu,sig])\n",
        "  [mu,sig] = predict(mu,sig,motion[n],motion_sig)\n",
        "  print(\"Predict :\",[mu,sig])\n"
      ],
      "metadata": {
        "colab": {
          "base_uri": "https://localhost:8080/"
        },
        "id": "EamrXc9-0srO",
        "outputId": "c73fe90a-8417-4ce0-adbe-d4a00c1dc5d8"
      },
      "execution_count": null,
      "outputs": [
        {
          "output_type": "stream",
          "name": "stdout",
          "text": [
            "Update : [4.998000799680128, 3.9984006397441023]\n",
            "Predict : [5.998000799680128, 5.998400639744102]\n",
            "Update : [5.999200191953932, 2.399744061425258]\n",
            "Predict : [6.999200191953932, 4.399744061425258]\n",
            "Update : [6.999619127420922, 2.0951800575117594]\n",
            "Predict : [8.999619127420921, 4.09518005751176]\n",
            "Update : [8.999811802788143, 2.0235152416216957]\n",
            "Predict : [9.999811802788143, 4.023515241621696]\n",
            "Update : [9.999906177177365, 2.0058615808441944]\n",
            "Predict : [10.999906177177365, 4.005861580844194]\n"
          ]
        }
      ]
    },
    {
      "cell_type": "code",
      "source": [
        "class matrix:\n",
        "\n",
        "    # implements basic operations of a matrix class\n",
        "\n",
        "    def __init__(self, value):\n",
        "        self.value = value\n",
        "        self.dimx = len(value)\n",
        "        self.dimy = len(value[0])\n",
        "        if value == [[]]:\n",
        "            self.dimx = 0\n",
        "\n",
        "    def zero(self, dimx, dimy):\n",
        "        # check if valid dimensions\n",
        "        if dimx < 1 or dimy < 1:\n",
        "            raise (ValueError, \"Invalid size of matrix\")\n",
        "        else:\n",
        "            self.dimx = dimx\n",
        "            self.dimy = dimy\n",
        "            self.value = [[0 for row in range(dimy)] for col in range(dimx)]\n",
        "\n",
        "    def identity(self, dim):\n",
        "        # check if valid dimension\n",
        "        if dim < 1:\n",
        "            raise (ValueError, \"Invalid size of matrix\")\n",
        "        else:\n",
        "            self.dimx = dim\n",
        "            self.dimy = dim\n",
        "            self.value = [[0 for row in range(dim)] for col in range(dim)]\n",
        "            for i in range(dim):\n",
        "                self.value[i][i] = 1\n",
        "\n",
        "    def show(self):\n",
        "        for i in range(self.dimx):\n",
        "            print(self.value[i])\n",
        "        print(' ')\n",
        "\n",
        "    def __add__(self, other):\n",
        "        # check if correct dimensions\n",
        "        if self.dimx != other.dimx or self.dimy != other.dimy:\n",
        "            raise (ValueError, \"Matrices must be of equal dimensions to add\")\n",
        "        else:\n",
        "            # add if correct dimensions\n",
        "            res = matrix([[]])\n",
        "            res.zero(self.dimx, self.dimy)\n",
        "            for i in range(self.dimx):\n",
        "                for j in range(self.dimy):\n",
        "                    res.value[i][j] = self.value[i][j] + other.value[i][j]\n",
        "            return res\n",
        "\n",
        "    def __sub__(self, other):\n",
        "        # check if correct dimensions\n",
        "        if self.dimx != other.dimx or self.dimy != other.dimy:\n",
        "            raise (ValueError, \"Matrices must be of equal dimensions to subtract\")\n",
        "        else:\n",
        "            # subtract if correct dimensions\n",
        "            res = matrix([[]])\n",
        "            res.zero(self.dimx, self.dimy)\n",
        "            for i in range(self.dimx):\n",
        "                for j in range(self.dimy):\n",
        "                    res.value[i][j] = self.value[i][j] - other.value[i][j]\n",
        "            return res\n",
        "\n",
        "    def __mul__(self, other):\n",
        "        # check if correct dimensions\n",
        "        if self.dimy != other.dimx:\n",
        "            raise (ValueError, \"Matrices must be m*n and n*p to multiply\")\n",
        "        else:\n",
        "            # multiply if correct dimensions\n",
        "            res = matrix([[]])\n",
        "            res.zero(self.dimx, other.dimy)\n",
        "            for i in range(self.dimx):\n",
        "                for j in range(other.dimy):\n",
        "                    for k in range(self.dimy):\n",
        "                        res.value[i][j] += self.value[i][k] * other.value[k][j]\n",
        "            return res\n",
        "\n",
        "    def transpose(self):\n",
        "        # compute transpose\n",
        "        res = matrix([[]])\n",
        "        res.zero(self.dimy, self.dimx)\n",
        "        for i in range(self.dimx):\n",
        "            for j in range(self.dimy):\n",
        "                res.value[j][i] = self.value[i][j]\n",
        "        return res\n",
        "\n",
        "    # Thanks to Ernesto P. Adorio for use of Cholesky and CholeskyInverse functions\n",
        "\n",
        "    def Cholesky(self, ztol=1.0e-5):\n",
        "        # Computes the upper triangular Cholesky factorization of\n",
        "        # a positive definite matrix.\n",
        "        res = matrix([[]])\n",
        "        res.zero(self.dimx, self.dimx)\n",
        "\n",
        "        for i in range(self.dimx):\n",
        "            S = sum([(res.value[k][i])**2 for k in range(i)])\n",
        "            d = self.value[i][i] - S\n",
        "            if abs(d) < ztol:\n",
        "                res.value[i][i] = 0.0\n",
        "            else:\n",
        "                if d < 0.0:\n",
        "                    raise (ValueError, \"Matrix not positive-definite\")\n",
        "                res.value[i][i] = sqrt(d)\n",
        "            for j in range(i+1, self.dimx):\n",
        "                S = sum([res.value[k][i] * res.value[k][j] for k in range(self.dimx)])\n",
        "                if abs(S) < ztol:\n",
        "                    S = 0.0\n",
        "                try:\n",
        "                   res.value[i][j] = (self.value[i][j] - S)/res.value[i][i]\n",
        "                except:\n",
        "                   raise (ValueError, \"Zero diagonal\")\n",
        "        return res\n",
        "\n",
        "    def CholeskyInverse(self):\n",
        "        # Computes inverse of matrix given its Cholesky upper Triangular\n",
        "        # decomposition of matrix.\n",
        "        res = matrix([[]])\n",
        "        res.zero(self.dimx, self.dimx)\n",
        "\n",
        "        # Backward step for inverse.\n",
        "        for j in reversed(range(self.dimx)):\n",
        "            tjj = self.value[j][j]\n",
        "            S = sum([self.value[j][k]*res.value[j][k] for k in range(j+1, self.dimx)])\n",
        "            res.value[j][j] = 1.0/tjj**2 - S/tjj\n",
        "            for i in reversed(range(j)):\n",
        "                res.value[j][i] = res.value[i][j] = -sum([self.value[i][k]*res.value[k][j] for k in range(i+1, self.dimx)])/self.value[i][i]\n",
        "        return res\n",
        "\n",
        "    def inverse(self):\n",
        "        aux = self.Cholesky()\n",
        "        res = aux.CholeskyInverse()\n",
        "        return res\n",
        "\n",
        "    def __repr__(self):\n",
        "        return repr(self.value)\n",
        "\n"
      ],
      "metadata": {
        "id": "qRtJxczk22do"
      },
      "execution_count": null,
      "outputs": []
    },
    {
      "cell_type": "code",
      "source": [
        "############################################\n",
        "### use the code below to test your filter!\n",
        "############################################\n",
        "\n",
        "measurements = [1, 2, 3]\n",
        "\n",
        "x = matrix([[0.], [0.]]) # initial state (location and velocity)\n",
        "P = matrix([[1000., 0.], [0., 1000.]]) # initial uncertainty\n",
        "u = matrix([[0.], [0.]]) # external motion\n",
        "F = matrix([[1., 1.], [0, 1.]]) # next state function\n",
        "H = matrix([[1., 0.]]) # measurement function\n",
        "R = matrix([[1.]]) # measurement uncertainty\n",
        "I = matrix([[1., 0.], [0., 1.]]) # identity matrix\n"
      ],
      "metadata": {
        "id": "Sy82l-K67sMm"
      },
      "execution_count": null,
      "outputs": []
    },
    {
      "cell_type": "code",
      "source": [
        "########################################\n",
        "\n",
        "# Implement the filter function below\n",
        "\n",
        "def kalman_filter(x, P):\n",
        "    for n in range(len(measurements)):\n",
        "\n",
        "\n",
        "        # measurement update\n",
        "        Z = matrix([[measurements[n]]])\n",
        "        y= Z- (H*x)\n",
        "        S = H*P*H.transpose() + R\n",
        "        K = P*H.transpose() * S.inverse()\n",
        "        x= x + (K*y)\n",
        "        P = (I-(K*H))*P\n",
        "        #print(x)\n",
        "        #print(P)\n",
        "\n",
        "\n",
        "        # prediction\n",
        "        x= (F*x) + u\n",
        "        P = F * P * F.transpose()\n",
        "        #print(x)\n",
        "        #print(P)\n",
        "\n",
        "    return x,P\n",
        "\n"
      ],
      "metadata": {
        "id": "uHbAPV_J3S_p"
      },
      "execution_count": null,
      "outputs": []
    },
    {
      "cell_type": "code",
      "source": [
        "\n",
        "print(kalman_filter(x, P))\n",
        "# output should be:\n",
        "# x: [[3.9996664447958645], [0.9999998335552873]]\n",
        "# P: [[2.3318904241194827, 0.9991676099921091], [0.9991676099921067, 0.49950058263974184]]"
      ],
      "metadata": {
        "colab": {
          "base_uri": "https://localhost:8080/"
        },
        "id": "uFT94zOx3kj0",
        "outputId": "131a715d-8be1-436b-bdcd-0a1ce2aa6568"
      },
      "execution_count": null,
      "outputs": [
        {
          "output_type": "stream",
          "name": "stdout",
          "text": [
            "([[3.9996664447958645], [0.9999998335552873]], [[2.3318904241194827, 0.9991676099921091], [0.9991676099921067, 0.49950058263974184]])\n"
          ]
        }
      ]
    },
    {
      "cell_type": "markdown",
      "source": [
        "A Note About the State Transition Function: Bu\n",
        "If you go back to the video, you'll notice that the state transition function was first given as\n",
        "$x' = Fx + Bu + \\nu. $\n",
        "\n",
        "But then Bu was crossed out leaving $x' = Fx + \\nu$.\n",
        "\n",
        "B is a matrix called the control input matrix and u is the control vector.\n",
        "\n",
        "As an example, let's say we were tracking a car and we knew for certain how much the car's motor was going to accelerate or decelerate over time; in other words, we had an equation to model the exact amount of acceleration at any given moment. Bu would represent the updated position of the car due to the internal force of the motor. We would use \\nu to represent any random noise that we could not precisely predict like if the car slipped on the road or a strong wind moved the car.\n",
        "\n",
        "For the Kalman filter lessons, we will assume that there is no way to measure or know the exact acceleration of a tracked object. For example, if we were in an autonomous vehicle tracking a bicycle, pedestrian or another car, we would not be able to model the internal forces of the other object; hence, we do not know for certain what the other object's acceleration is. Instead, we will set Bu = 0 and represent acceleration as a random noise with mean $\\nu. $"
      ],
      "metadata": {
        "id": "hFl4XuJSoX-F"
      }
    },
    {
      "cell_type": "markdown",
      "source": [
        "The State Transition Matrix\n",
        "$ \\begin{pmatrix} p_x' \\\\\\ p_y' \\\\\\ v_x' \\\\\\ v_y' \\\\\\ \\end{pmatrix} = \\begin{pmatrix} 1 & 0 & \\Delta t & 0 \\\\\\ 0 & 1 & 0 & \\Delta t \\\\\\ 0 & 0 & 1 & 0 \\\\\\ 0 & 0 & 0 & 1 \\end{pmatrix} \\begin{pmatrix} p_x \\\\\\ p_y \\\\\\ v_x \\\\\\ v_y \\end{pmatrix} + \\begin{pmatrix} \\nu_{px} \\\\\\\\ \\nu_{py} \\\\\\\\ \\nu_{vx} \\\\\\\\ \\nu_{vy} \\end{pmatrix}$\n",
        "As a reminder, the above equation is $x' = Fx + noise $"
      ],
      "metadata": {
        "id": "dOX9Zy77o0hF"
      }
    },
    {
      "cell_type": "markdown",
      "source": [
        "Process Covariance Matrix Q - Intuition\n",
        "As a reminder, here are the state covariance matrix update equation and the equation for Q.\n",
        "\n",
        "P' = FPF^T + Q\n",
        "\n",
        "$ Q = \\begin{pmatrix} \\frac{\\Delta t^4}{{4}}\\sigma_{ax}^2 & 0 & \\frac{\\Delta t^3}{{2}}\\sigma_{ax}^2 & 0 \\\\ 0 & \\frac{\\Delta t^4}{{4}}\\sigma_{ay}^2 & 0 & \\frac{\\Delta t^3}{{2}}\\sigma_{ay}^2 \\\\ \\frac{\\Delta t^3}{{2}}\\sigma_{ax}^2 & 0 & \\Delta t^2\\sigma_{ax}^2 & 0 \\\\ 0 & \\frac{\\Delta t^3}{{2}}\\sigma_{ay}^2 & 0 & \\Delta t^2\\sigma_{ay}^2 \\end{pmatrix} $\n",
        "\n",
        "Because our state vector only tracks position and velocity, we are modeling acceleration as a random noise. The Q matrix includes time \\Delta t to account for the fact that as more time passes, we become more uncertain about our position and velocity. So as \\Delta t increases, we add more uncertainty to the state covariance matrix P.\n",
        "\n",
        "Combining both 2D position and 2D velocity equations previously deducted formulas we have:\n",
        "\n",
        "$\\begin{cases} p_x' = p_x + v_x \\Delta t + \\frac{a_x \\Delta t^2}{{2}}\\\\ p_y' = p_y + v_y \\Delta t + \\frac{a_y \\Delta t^2}{{2}}\\\\ v_x' = v_x + a_x \\Delta t\\\\ v_y' = v_y + a_y \\Delta t \\end{cases} $\n",
        "\n",
        "Since the acceleration is unknown we can add it to the noise component, and this random noise would be expressed analytically as the last terms in the equation derived above. So, we have a random acceleration vector \\nu in this form:\n",
        "\n",
        "$\\nu = \\begin{pmatrix} \\nu_{px} \\\\ \\nu_{py} \\\\ \\nu_{vx} \\\\ \\nu_{vy} \\end{pmatrix} = \\begin{pmatrix} \\frac{a_x \\Delta t^2}{{2}} \\\\ \\frac{a_y \\Delta t^2}{{2}} \\\\ a_x \\Delta t \\\\ a_y \\Delta t \\end{pmatrix}$\n",
        "which is described by a zero mean and a covariance matrix Q, so $\\nu \\sim N(0,Q)$.\n",
        "\n",
        "The vector \\nu can be decomposed into two components a 4 by 2 matrix G which does not contain random variables and a 2 by 1 matrix a which contains the random acceleration components:\n",
        "\n",
        "$\\nu = \\begin{pmatrix} \\frac{a_x \\Delta t^2}{{2}} \\\\ \\frac{a_y \\Delta t^2}{{2}} \\\\ a_x \\Delta t \\\\ a_y \\Delta t \\end{pmatrix} = \\begin{pmatrix} \\frac{\\Delta t^2}{{2}} & 0 \\\\ 0 & \\frac{\\Delta t^2}{{2}} \\\\ \\Delta t & 0 \\\\ 0 & \\Delta t \\end{pmatrix} \\begin{pmatrix} a_x\\\\ a_y \\end{pmatrix} = Ga\n",
        "\\Delta t $\n",
        " is computed at each Kalman Filter step and the acceleration is a random vector with zero mean and standard deviations $ \\sigma_{ax_{}}$ and $\\sigma_{ay}$.\n",
        "\n",
        "Based on our noise vector we can define now the new covariance matrix Q.\n",
        "The covariance matrix is defined as the expectation value of the noise vector \\nu times the noise vector $\\nu^T$. So let’s write this down:\n",
        "\n",
        "$ Q = E[\\nu \\nu^T] = E[Gaa^TG^T]$\n",
        "\n",
        "As G does not contain random variables, we can put it outside the expectation calculation.\n",
        "\n",
        "$ Q = G E[aa^T] G^T = G \\begin{pmatrix} \\sigma_{ax}^2 & \\sigma_{axy} \\\\ \\sigma_{axy} & \\sigma_{ay}^2 \\end{pmatrix} G^T = G Q_{\\nu} G^T $\n",
        "\n",
        "\n",
        "This leaves us with three statistical moments:\n",
        "\n",
        "the expectation of ax times ax, which is the variance of ax squared: $ \\sigma_{ax}^2$ .\n",
        "the expectation of ay times ay, which is the variance of ay squared: $ \\sigma_{ay}^2$.\n",
        "and the expectation of ax times ay, which is the covariance of ax and ay: $ \\sigma_{axy}$.\n",
        "$ a_{x_{}}$ and $a_{y_{}} $ are assumed uncorrelated noise processes. This means that the covariance $ \\sigma_{axy_{}}$ in $ Q_{\\nu} $ is zero:\n",
        "\n",
        "$ Q_{\\nu} = \\begin{pmatrix} \\sigma_{ax}^2 & \\sigma_{axy} \\\\ \\sigma_{axy} & \\sigma_{ay}^2 \\end{pmatrix} = \\begin{pmatrix} \\sigma_{ax}^2 & 0 \\\\ 0 & \\sigma_{ay}^2 \\end{pmatrix} $\n",
        "\n",
        "\n",
        "So after combining everything in one matrix we obtain our 4 by 4 Q matrix:\n",
        "\n",
        "$ Q = G Q_{\\nu} G^T = \\begin{pmatrix} \\frac{\\Delta t^4}{{4}}\\sigma_{ax}^2 & 0 & \\frac{\\Delta t^3}{{2}}\\sigma_{ax}^2 & 0 \\\\ 0 & \\frac{\\Delta t^4}{{4}}\\sigma_{ay}^2 & 0 & \\frac{\\Delta t^3}{{2}}\\sigma_{ay}^2 \\\\ \\frac{\\Delta t^3}{{2}}\\sigma_{ax}^2 & 0 & \\Delta t^2\\sigma_{ax}^2 & 0 \\\\ 0 & \\frac{\\Delta t^3}{{2}}\\sigma_{ay}^2 & 0 & \\Delta t^2\\sigma_{ay}^2 \\end{pmatrix} $"
      ],
      "metadata": {
        "id": "QVdwxnSdpQPm"
      }
    },
    {
      "cell_type": "markdown",
      "source": [
        "Deriving the Radar Measurement Function\n",
        "The measurement function is composed of three components that show how the predicted state, $ x' = (p_x', p_y', v_x', v_y')^T$, is mapped into the measurement space, $ z = (\\rho, \\varphi, \\dot{\\rho})^T:$\n",
        "\n",
        "The range, $ \\rho $, is the distance to the pedestrian which can be defined as:\n",
        "\n",
        "$ \\rho = \\sqrt[]{p_x^2 + p_y^2}$\n",
        "\n",
        "$ \\varphi $ is the angle between \\rho and the x direction and can be defined as:\n",
        "\n",
        "$ \\varphi = \\arctan(p_y/p_x) $\n",
        "There are two ways to do the range rate $ \\dot{\\rho(t)} $ derivation:\n",
        "\n",
        "Generally we can explicitly describe the range, \\rho, as a function of time:\n",
        "\n",
        "$ \\rho(t) = \\sqrt{p_x(t)^2 + p_y(t)^2} $\n",
        "The range rate, $ \\dot{\\rho(t)} $, is defined as time rate of change of the range, $ \\rho $, and it can be described as the time derivative of $ \\rho $:\n",
        "\n",
        "$ \\dot{\\rho} = \\frac{\\partial \\rho(t)}{\\partial t} = \\frac{ \\partial}{\\partial t}\\sqrt{p_x(t)^2 + p_y(t)^2} = \\frac{1}{2 \\sqrt{p_x(t)^2 + p_y(t)^2}} (\\frac{ \\partial}{\\partial t}p_x(t)^2 + \\frac{ \\partial}{\\partial t}p_y(t)^2) $\n",
        "\n",
        "$ =\\frac{1}{2 \\sqrt{p_x(t)^2 + p_y(t)^2}} (2 p_x(t) \\frac{ \\partial}{\\partial t} p_x(t) + 2 p_y(t) \\frac{ \\partial}{\\partial t} p_y(t)) $\n",
        "\n",
        "$ \\frac{ \\partial}{\\partial t} p_x(t) $ is nothing else than $ v_x(t)$, similarly $ \\frac{ \\partial}{\\partial t} p_y(t) $ is $ v_y(t) $. So we have:\n",
        "\n",
        "$ \\dot{\\rho} = \\frac{\\partial \\rho(t)}{\\partial t} = \\frac{1}{2 \\sqrt{p_x(t)^2 + p_y(t)^2}} (2 p_x(t) v_x(t) + 2 p_y(t) v_y(t)) = \\frac{2( p_x(t) v_x(t) + p_y(t) v_y(t))}{2 \\sqrt{p_x(t)^2 + p_y(t)^2}} $\n",
        "\n",
        "$ =\\frac{p_x(t) v_x(t) + p_y(t) v_y(t)}{ \\sqrt{p_x(t)^2 + p_y(t)^2}} $\n",
        "\n",
        "For simplicity we just use the following notation:\n",
        "\n",
        "$ \\dot{\\rho} = \\frac{p_x v_x + p_y v_y}{ \\sqrt{p_x^2 + p_y^2}} $\n",
        "The range rate,  $ \\dot{\\rho} $, can be seen as a scalar projection of the velocity vector, $ \\vec{v} $, onto $ \\vec{\\rho} $. Both $ \\vec{\\rho}$  and $ \\vec{v}$ are 2D vectors defined as:\n",
        "\n",
        "$ \\vec{\\rho}= \\begin{pmatrix} p_x\\\\ p_y \\end{pmatrix}, \\space \\vec{v}=\\begin{pmatrix} v_x\\\\ v_y \\end{pmatrix}$\n",
        "The scalar projection of the velocity vector $ \\vec{v}$ onto $ \\vec{\\rho}$ is defined as:\n",
        "\n",
        "$ \\dot{\\rho}= \\frac{\\vec{v} \\vec{\\rho}}{\\lvert \\vec{\\rho} \\rvert} = \\frac{ \\begin{pmatrix} v_x & v_y \\end{pmatrix} \\begin{pmatrix} p_x\\\\ p_y \\end{pmatrix} }{ \\sqrt{p_x^2 + p_y^2} } = \\frac{p_x v_x + p_y v_y}{ \\sqrt{p_x^2 + p_y^2}} $\n",
        "where $ \\lvert \\vec{\\rho} \\rvert $ is the length of $ \\vec{\\rho}$. In our case it is actually the range, so $ \\rho = \\lvert \\vec{\\rho} \\rvert$ ."
      ],
      "metadata": {
        "id": "9S2wMt9GqrbR"
      }
    },
    {
      "cell_type": "markdown",
      "source": [
        "cheat sheet\n",
        "\n",
        "\n",
        "\n",
        "$ h(x) \\approx h(\\mu) + \\frac{\\partial h(\\mu)}{\\partial x}(x-\\mu) = \\arctan(\\mu) + \\frac{1}{1+\\mu^2}(x-\\mu) $\n",
        "\n",
        "\n",
        "In our example $\\mu=0$, therefore:\n",
        "\n",
        "$h(x) \\approx \\arctan(0) + \\frac{1}{1+0}(x-0) = x$\n",
        "So, the function, $ h(x) = \\arctan(x)$, will be approximated by a line:\n",
        "$ h(x) \\approx x.$\n",
        "\n",
        "And now, let's keep going!\n",
        "\n",
        "Multivariate Taylor Series\n",
        "Now that you’ve seen how to do a Taylor series expansion with a one-dimensional equation, we’ll need to look at the Taylor series expansion for multi-dimensional equations. Recall from the Radar Measurements lecture that the h function is composed of three equations that show how the predicted state, $ x' = (p_x', p_y', v_x', v_y')^T $, is mapped into the measurement space, $ z = (\\rho, \\varphi, \\dot{\\rho})^T$ :\n",
        "\n",
        "$ h(x')= \\begin{pmatrix} \\sqrt{ p{'}_x^2 + p{'}_y^2 }\\\\ \\arctan(p_y' / p_x')\\\\ \\frac{p_x' v_x' + p_y' v_y'}{\\sqrt{p{'}_x^2 + p{'}_{y}^2}} \\end{pmatrix} $\n",
        "\n",
        "\n",
        "\n",
        "\n",
        "These are multi-dimensional equations, so we will need to use a multi-dimensional Taylor series expansion to make a linear approximation of the h function. Here is a general formula for the multi-dimensional Taylor series expansion:\n",
        "$\n",
        "T(x) = f(a) + (x - a)^TDf(a) + \\frac 1{2!}(x-a)^T{D^2f(a)}(x - a) + ... $\n",
        "where Df(a) is called the Jacobian matrix and D^2f(a) is called the Hessian matrix.\n",
        "\n",
        "They represent first order and second order derivatives of multi-dimensional equations. A full Taylor series expansion would include higher order terms as well for the third order derivatives, fourth order derivatives, and so on.\n",
        "\n",
        "Notice the similarities between the multi-dimensional Taylor series expansion and the one-dimensional Taylor series expansion:\n",
        "\n",
        "$T(x) = f(a) + \\frac{f'(a)}{1!}(x - a) + \\frac{f''(a)}{2!}(x-a)^2 + \\frac{f'''(a)}{3!}(x - a)^3 + ... $\n",
        "To derive a linear approximation for the h function, we will only keep the expansion up to the Jacobian matrix Df(a). We will ignore the Hessian matrix D^2f(a) and other higher order terms. Assuming (x - a) is small, (x - a)^2 or the multi-dimensional equivalent (x-a)^T (x - a) will be even smaller; the extended Kalman filter we'll be using assumes that higher order terms beyond the Jacobian are negligible.\n",
        "\n",
        "Let's first calculate the Jacobian matrix for the extended Kalman filter. Then we'll show the difference between the Kalman filter equations and the extended Kalman filter equations.$"
      ],
      "metadata": {
        "id": "icCysHr4Qbtw"
      }
    },
    {
      "cell_type": "markdown",
      "source": [
        "We're going to calculate, step by step, all the partial derivatives in H_j:\n",
        "\n",
        "$\\Large H_j = \\begin{bmatrix} \\frac{\\partial \\rho}{\\partial p_x} & \\frac{\\partial \\rho}{\\partial p_y} & \\frac{\\partial \\rho}{\\partial v_x} & \\frac{\\partial \\rho}{\\partial v_y}\\\\ \\frac{\\partial \\varphi}{\\partial p_x} & \\frac{\\partial \\varphi}{\\partial p_y} & \\frac{\\partial \\varphi}{\\partial v_x} & \\frac{\\partial \\varphi}{\\partial v_y}\\\\ \\frac{\\partial \\dot{\\rho}}{\\partial p_x} & \\frac{\\partial \\dot{\\rho}}{\\partial p_y} & \\frac{\\partial \\dot{\\rho}}{\\partial v_x} & \\frac{\\partial \\dot{\\rho}}{\\partial v_y} \\end{bmatrix}$\n",
        "So all of H_j's elements are calculated as follows:\n",
        "$\n",
        "\\frac{\\partial \\rho}{\\partial p_x}= \\frac{\\partial}{\\partial p_x}(\\sqrt[]{p_x^2 + p_y^2}) = \\frac{2 p_x}{2 \\sqrt[]{p_x^2 + p_y^2}} = \\frac{p_x}{\\sqrt[]{p_x^2 + p_y^2}}$\n",
        "\n",
        "$\n",
        "\\frac{\\partial \\rho}{\\partial p_y}= \\frac{\\partial}{\\partial p_y}(\\sqrt[]{p_x^2 + p_y^2}) = \\frac{2 p_y}{2 \\sqrt[]{p_x^2 + p_y^2}} = \\frac{p_y}{\\sqrt[]{p_x^2 + p_y^2}}$\n",
        "\n",
        "\n",
        "$\n",
        "\\frac{\\partial \\rho}{\\partial v_x} = \\frac{\\partial}{\\partial v_x}(\\sqrt[]{p_x^2 + p_y^2}) = 0$\n",
        "\n",
        "\n",
        "\n",
        "$\\frac{\\partial \\rho}{\\partial v_y} = \\frac{\\partial}{\\partial v_y}(\\sqrt[]{p_x^2 + p_y^2}) = 0$\n",
        "\n",
        "\n",
        "$\n",
        "\\frac{\\partial \\varphi}{\\partial p_x} = \\frac{\\partial}{\\partial p_x}arctan(p_y/p_x) = \\frac{1}{(\\frac{p_y}{p_x})^2 + 1} (- \\frac{p_y}{p_x^2}) = -\\frac{p_y}{p_x^2+p_y^2}$\n",
        "\n",
        "\n",
        "\n",
        "$\\frac{\\partial \\varphi}{\\partial p_y} = \\frac{\\partial}{\\partial p_y}arctan(p_y/p_x) = \\frac{1}{(\\frac{p_y}{p_x})^2 + 1} (\\frac{1}{p_x}) = \\frac{p_x^2}{p_x^2+p_y^2} \\frac{1}{p_x} =\\frac{p_x}{p_x^2+p_y^2}$\n",
        "\n",
        "\n",
        "\n",
        "$\\frac{\\partial \\varphi}{\\partial v_x} = \\frac{\\partial}{\\partial v_x}arctan(p_y/p_x) = 0$\n",
        "\n",
        "\n",
        "$\\frac{\\partial \\varphi}{\\partial v_y} = \\frac{\\partial}{\\partial v_y}arctan(p_y/p_x) = 0$\n",
        "\n",
        "\n",
        "\n",
        "$\\frac{\\partial \\dot{\\rho}}{\\partial p_x} = \\frac{\\partial}{\\partial p_x} \\left( \\frac{p_x v_x + p_y v_y}{\\sqrt[]{p_x^2 + p_y^2}} \\right) $\n",
        "\n",
        "\n",
        "In order to calculate the derivative of this function we use the quotient rule.\n",
        "\n",
        "Given a function z that is quotient of two other functions, f and g:\n",
        "\n",
        "$ z = \\frac{f}{g} $\n",
        "its derivative with respect to x is defined as:\n",
        "\n",
        "$\\frac{\\partial z}{\\partial x} = \\frac { \\frac{\\partial f}{\\partial x} g - \\frac{\\partial g}{\\partial x} f } {g^2}$\n",
        "in our case:\n",
        "\n",
        "$f = p_x v_x + p_y v_y\n",
        "g = \\sqrt[]{p_x^2 + p_y^2}$\n",
        "\n",
        "\n",
        "Their derivatives are:\n",
        "\n",
        "$\\frac{\\partial f}{\\partial p_x} = \\frac{\\partial}{\\partial p_x} (p_x v_x + p_y v_y) = v_x\n",
        "\\frac{\\partial g}{\\partial p_x} = \\frac{\\partial}{\\partial p_x} \\left( \\sqrt[]{p_x^2 + p_y^2} \\right) = \\frac{p_x}{\\sqrt[]{p_x^2 + p_y^2}}$\n",
        "\n",
        "\n",
        "Putting everything together into the derivative quotient rule we have:\n",
        "\n",
        " $\\frac{\\partial \\dot{\\rho}} {\\partial p_x} = \\frac{v_x \\sqrt[]{p_x^2 + p_y^2} - \\frac{p_x}{\\sqrt[]{p_x^2 + p_y^2}} (p_x v_x + p_y v_y)} {p_x^2 + p_y^2} = \\frac{p_y(v_x p_y - v_y p_x)}{(p_x^2 + p_y^2)^{3/2}}$\n",
        "\n",
        "\n",
        "Similarly,\n",
        "\n",
        "$\\frac{\\partial \\dot{\\rho}}{\\partial p_y} = \\frac{\\partial}{\\partial p_y} \\left( \\frac{p_x v_x + p_y v_y}{\\sqrt[]{p_x^2 + p_y^2}} \\right) = \\frac{p_x(v_y p_x - v_x p_y)}{(p_x^2 + p_y^2)^{3/2}}\n",
        "\\frac{\\partial \\dot{\\rho}}{\\partial v_x} = \\frac{\\partial}{\\partial v_x} \\left( \\frac{p_x v_x + p_y v_y}{\\sqrt[]{p_x^2 + p_y^2}} \\right) = \\frac{p_x}{\\sqrt[]{p_x^2 + p_y^2}}\n",
        "\\frac{\\partial \\dot{\\rho}}{\\partial v_y} = \\frac{\\partial}{\\partial v_y} \\left( \\frac{p_x v_x + p_y v_y}{\\sqrt[]{p_x^2 + p_y^2}} \\right) = \\frac{p_y}{\\sqrt[]{p_x^2 + p_y^2}}$\n",
        "\n",
        "\n",
        "So now, after calculating all the partial derivatives, our resulted Jacobian, H_j is:\n",
        "\n",
        "$\\Large H_j = \\begin{bmatrix} \\frac{p_x}{\\sqrt[]{p_x^2 + p_y^2}} & \\frac{p_y}{\\sqrt[]{p_x^2 + p_y^2}} & 0 & 0\\\\ -\\frac{p_y}{p_x^2 + p_y^2} & \\frac{p_x}{p_x^2 + p_y^2} & 0 & 0\\\\ \\frac{p_y(v_x p_y - v_y p_x)}{(p_x^2 + p_y^2)^{3/2}} & \\frac{p_x(v_y p_x - v_x p_y)}{(p_x^2 + p_y^2)^{3/2}} & \\frac{p_x}{\\sqrt[]{p_x^2 + p_y^2}} & \\frac{p_y}{\\sqrt[]{p_x^2 + p_y^2}}\\\\ \\end{bmatrix}$"
      ],
      "metadata": {
        "id": "Y1U4bc1VSbfa"
      }
    },
    {
      "cell_type": "markdown",
      "source": [
        "Extended Kalman Filter Equations\n",
        "Although the mathematical proof is somewhat complex, it turns out that the Kalman filter equations and extended Kalman filter equations are very similar. The main differences are:\n",
        "\n",
        "the F matrix will be replaced by $ F_j $when calculating P'.\n",
        "the H matrix in the Kalman filter will be replaced by the Jacobian matrix $ H_j  $ when calculating S, K, and P.\n",
        "to calculate $ x' $, the prediction update function, f, is used instead of the F matrix.\n",
        "to calculate y, the h function is used instead of the H matrix.\n",
        "For this project, however, we do not need to use the f function or F_j. If we had been using a non-linear model in the prediction step, we would need to replace the F matrix with its Jacobian, F_j. However, we are using a linear model for the prediction step. So, for the prediction step, we can still use the regular Kalman filter equations and the F matrix rather than the extended Kalman filter equations.\n",
        "\n",
        "The measurement update for lidar will also use the regular Kalman filter equations, since lidar uses linear equations. Only the measurement update for the radar sensor will use the extended Kalman filter equations.\n",
        "\n",
        "One important point to reiterate is that the equation $ y = z - Hx' $ for the Kalman filter does not become $ y = z - H_jx $ for the extended Kalman filter. Instead, for extended Kalman filters, we'll use the h function directly to map predicted locations x' from Cartesian to polar coordinates.\n",
        "\n",
        "The comparison for reference.\n",
        "The comparison for reference.\n",
        "\n",
        "Clarification of $ u = 0 $\n",
        "In the above image, the prediction equation is written as $ x' = Fx + u $ and $ x' = f(x,u) $ . Previously the equation was written $ x' = Fx + \\nu$.\n",
        "\n",
        "It is just a question of notation where $ \\nu $ is the greek letter $ \"nu\" $ and \"u\" is used in the code examples. Remember that $ \\nu $ is represented by a gaussian distribution with mean zero. The equation $ x' = Fx + u $ or the equivalent equation $ x' = Fx + \\nu $ calculates the mean value of the state variable x; hence we set u = 0. The uncertainty in the gaussian distribution shows up in the Q matrix.\n",
        "\n",
        "More Details About Calculations with Radar Versus Lidar\n",
        "In the radar update step, the Jacobian matrix H_j is used to calculate S, K and P. To calculate y, we use the equations that map the predicted location x' from Cartesian coordinates to polar coordinates:\n",
        "\n",
        "$ h(x')= \\begin{pmatrix} \\sqrt{ p{'}_{x}^2 + p{'}_{y}^2 }\\\\ \\arctan(p_y' / p_x')\\\\ \\frac{p_x' v_x' + p_y' v_y'}{\\sqrt{p{'}_{x}^2 + p{'}_{y}^2}} \\end{pmatrix} $\n",
        "The predicted measurement vector x' is a vector containing values in the form $ \\begin{bmatrix} p_x, p_y, v_x, v_y \\end{bmatrix} $. The radar sensor will output values in polar coordinates:\n",
        "\n",
        "$ \\begin{pmatrix} \\rho\\\\ \\phi\\\\ \\dot{\\rho} \\end{pmatrix} $\n",
        "In order to calculate y for the radar sensor, we need to convert x' to polar coordinates. In other words, the function h(x) maps values from Cartesian coordinates to polar coordinates. So the equation for radar becomes $ y = z_{radar} - h(x')$.\n",
        "\n",
        "One other important point when calculating y with radar sensor data: the second value in the polar coordinate vector is the angle $ \\phi $. You'll need to make sure to normalize $ \\phi$ in the y vector so that its angle is between $ -\\pi $ and $ \\pi $; in other words, add or subtract $ 2\\pi $ from $ \\phi$ until it is between $ -\\pi $ and $ \\pi $."
      ],
      "metadata": {
        "id": "CAfXivpemlfG"
      }
    },
    {
      "cell_type": "markdown",
      "source": [
        "\n",
        "1) What is the influence of $ \\nu_{a,k_{}}$ and $\\nu_{\\ddot{\\psi},k} $ on the velocity?\n",
        "In other words, what is c in the process model?\n",
        "\n",
        "A.$ \\Large \\Delta t \\cdot \\nu_{\\ddot{\\psi},k}$\n",
        "\n",
        "B. $ \\Large \\Delta t \\cdot \\nu_{a,k} $\n",
        "\n",
        "1) How will the noise processes influence the velocity? Select one of the options from above (👆).\n",
        "\n",
        "\n",
        "A\n",
        "\n",
        "\n",
        "B\n",
        "\n",
        "SOLUTION:\n",
        "2) What is the influence of $ \\nu_{a,k_{}}$ and $ \\nu_{\\ddot{\\psi},k} $ on the yaw angle?\n",
        "In other words, what is d in the process model?\n",
        "\n",
        "A. $ \\Large \\frac{1}{2}(\\Delta t)^2 \\cdot \\nu_{\\ddot{\\psi},k}$\n",
        "\n",
        "B. $ \\Large \\Delta t \\cdot \\nu_{\\ddot{\\psi},k}$\n",
        "\n",
        "\n",
        "2) How will the noise processes influence the yaw angle? Select one of the options from above (👆).\n",
        "\n",
        "\n",
        "A\n",
        "\n",
        "\n",
        "B\n",
        "\n",
        "SOLUTION:\n",
        "3) What is the influence of $ \\nu_{a,k_{}}$ and $ \\nu_{\\ddot{\\psi},k}$ on the yaw rate?\n",
        "In other words, what is \\large e in the process model?\n",
        "\n",
        "A. $ \\Large \\Delta t \\cdot \\nu_{a,k}$\n",
        "\n",
        "B. $ \\Large \\Delta t \\cdot \\nu_{\\ddot{\\psi},k}$\n",
        "\n",
        "\n",
        "3) How will the noise processes influence the yaw rate? Select one of the options from above (👆).\n",
        "\n",
        "\n",
        "1) What would the x acceleration offset be if the car were driving perfectly straight? In other words, what is a?\n",
        "\n",
        "\n",
        "A. $ \\frac{1}{2}(\\Delta t)^2 cos(\\psi_k) \\cdot \\nu_{a,k}$\n",
        "\n",
        "B. $\\frac{1}{2}(\\Delta t)^2 sin(\\psi_k) \\cdot \\nu_{a,k}$\n",
        "\n",
        "\n",
        "1) Which of the above (👆) options represents the acceleration x offset of a car driving straight at time k+1?\n",
        "\n",
        "\n",
        "A\n",
        "\n",
        "\n",
        "B\n",
        "\n",
        "SOLUTION:\n",
        "1) What would the y acceleration offset be if the car were driving perfectly straight? In other words, what is b?\n",
        "\n",
        "\n",
        "A. $ \\frac{1}{2}(\\Delta t)^2 cos(\\psi_k) \\cdot \\nu_{a,k} $\n",
        "\n",
        "B. $ \\frac{1}{2}(\\Delta t)^2 sin(\\psi_k) \\cdot \\nu_{a,k} $\n",
        "\n",
        "\n",
        "2) Which of the above (👆) options represents the acceleration y offset of a car driving straight at time k+1?\n",
        "\n",
        "\n",
        "A\n",
        "\n",
        "\n",
        "B"
      ],
      "metadata": {
        "id": "sxQM6aKu8ERW"
      }
    },
    {
      "cell_type": "markdown",
      "source": [
        "State Vector\n",
        "$ x_{k+1|k}=\\begin{bmatrix} p_x\\\\ p_y\\\\ v\\\\ \\psi\\\\ \\dot{\\psi} \\end{bmatrix} $\n",
        "Measurement Vector\n",
        "$ z_{k+1|k}=\\begin{bmatrix} \\rho\\\\ \\varphi\\\\ \\dot{\\rho} \\end{bmatrix}$\n",
        "Measurement Model\n",
        "$ z_{k+1|k}=h(x_{k+1}) + w_{k+1}$\n",
        "$ \\rho = \\sqrt{p_x^2+p_y^2}$\n",
        "$ \\varphi =arctan(\\frac{p_y}{p_x})$\n",
        "$ \\dot{\\rho}=\\frac{p_xcos(\\psi)v+p_ysin(\\psi)v}{\\sqrt{p_x^2+p_y^2}}$\n",
        "Predicted Measurement Mean\n",
        "$ \\large z_{k+1|k} = \\sum_{i=1}^{n_\\sigma} w_i Z_{k+1|k,i}$\n",
        "Predicted Covariance\n",
        "$ \\large S_{k+1|k} = \\sum_{i=1}^{n_\\sigma} w_i( Z_{k+1|k,i} - z_{k+1|k})(Z_{k+1|k,i} - z_{k+1|k})^T + R$\n",
        "$ \\large R = E(w_k\\cdot w_k^T) = \\begin{bmatrix} \\sigma_{\\rho}^2 \\qquad 0\\qquad0\\\\ 0\\qquad\\sigma_{\\varphi}^2 \\qquad 0\\\\ 0\\qquad0\\qquad\\sigma_{\\dot{\\rho}}^2 \\end{bmatrix}$"
      ],
      "metadata": {
        "id": "eomkBIZqryYj"
      }
    }
  ]
}